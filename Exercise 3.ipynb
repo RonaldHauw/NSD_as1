{
 "cells": [
  {
   "cell_type": "markdown",
   "metadata": {},
   "source": [
    "# Exercise 3"
   ]
  },
  {
   "cell_type": "markdown",
   "metadata": {},
   "source": [
    "Setting up the Python environment"
   ]
  },
  {
   "cell_type": "code",
   "execution_count": 1,
   "metadata": {},
   "outputs": [],
   "source": [
    "import numpy as np\n",
    "import numpy.linalg as la\n",
    "from numpy import inf\n",
    "import matplotlib.pyplot as plt\n",
    "\n",
    "# The following is some settings for the figures.\n",
    "# This can be manipulated to get nice plots included in pdf-documents.\n",
    "newparams = {'figure.figsize': (8.0, 5.0), 'axes.grid': True,\n",
    "             'lines.markersize': 8, 'lines.linewidth': 2,\n",
    "             'font.size': 12}\n",
    "plt.rcParams.update(newparams)"
   ]
  },
  {
   "cell_type": "markdown",
   "metadata": {},
   "source": [
    "Function to help make a tridiagonal matrix"
   ]
  },
  {
   "cell_type": "code",
   "execution_count": 2,
   "metadata": {},
   "outputs": [],
   "source": [
    "def tridiag(c, a, b, N):\n",
    "    # Returns a tridiagonal matrix A=tridiag(c, a, b) of dimension N x N.\n",
    "    e = np.ones(N)        # array [1,1,...,1] of length N\n",
    "    A = c*np.diag(e[1:],-1)+a*np.diag(e)+b*np.diag(e[1:],1)\n",
    "    return A"
   ]
  },
  {
   "cell_type": "markdown",
   "metadata": {},
   "source": [
    "Defining the right hand side"
   ]
  },
  {
   "cell_type": "code",
   "execution_count": 3,
   "metadata": {},
   "outputs": [],
   "source": [
    "def f(x):\n",
    "    return np.sin(np.pi*x)"
   ]
  },
  {
   "cell_type": "markdown",
   "metadata": {},
   "source": [
    "Defining the left point"
   ]
  },
  {
   "cell_type": "code",
   "execution_count": 4,
   "metadata": {},
   "outputs": [],
   "source": [
    "alpha = 0"
   ]
  },
  {
   "cell_type": "markdown",
   "metadata": {},
   "source": [
    "The right boundary point is a bit more tricky. The first finite difference approximation of $u_x$ is\n",
    "\\begin{equation}\n",
    " u_x(1) = \\frac{u_M-u_{M-1}}{h} + O(h)\n",
    "\\end{equation}\n",
    "Therefore, the right hand boundary equation becomes\n",
    "\\begin{equation}\n",
    "\\frac{u_M-u_{M-1}}{h} + u_{M+1} = 1\n",
    "\\end{equation}"
   ]
  },
  {
   "cell_type": "markdown",
   "metadata": {},
   "source": [
    "We would like to write this in matrix form, if we use the same stencil as before, only the last row changes"
   ]
  },
  {
   "cell_type": "markdown",
   "metadata": {},
   "source": [
    "\\begin{equation}\n",
    "    \\frac{1}{h^2}\\cdot\\begin{bmatrix}\n",
    "        2  & -1 & 0  &  \\cdots & 0\\\\\n",
    "        -1 & 2  & -1 &  \\cdots & 0\\\\\n",
    "        0  & -1 & 2  & \\ddots & 0 \\\\\n",
    "        \\vdots & \\ddots &\\ddots & \\ddots & \\vdots \\\\\n",
    "        0    & \\cdots  & -1  & 1 & h \\\\\n",
    "    \\end{bmatrix} \\begin{bmatrix}\n",
    "    u_0\\\\\n",
    "    \\vdots\\\\\n",
    "    \\vdots\\\\\n",
    "    u_M\\\\\n",
    "    u_{M+1}\n",
    "    \\end{bmatrix} = \\begin{bmatrix}\n",
    "    0\\\\\n",
    "    f(x_1)\\\\\n",
    "    \\vdots\\\\\n",
    "    f(x_M)\\\\\n",
    "    h\n",
    "    \\end{bmatrix}\n",
    "\\end{equation}"
   ]
  },
  {
   "cell_type": "markdown",
   "metadata": {},
   "source": [
    "We can modify the original code to construct this linear problem:"
   ]
  },
  {
   "cell_type": "code",
   "execution_count": 5,
   "metadata": {},
   "outputs": [],
   "source": [
    "def bvp_1(f, alpha, beta, M=10):\n",
    "    # Solve the BVP -u''(x)=f(x), u(0)=alpha, u(1)=beta\n",
    "    # by a central difference scheme.\n",
    "    h = 1/M\n",
    "    Ah = tridiag(-1,2,-1,M)/h**2      # Set up the coefficient matrix\n",
    "    \n",
    "    # Modify Ah for scheme 1\n",
    "    Ah[M-1][M-1], Ah[M-1][M-2], Ah[M-1][M-3] = h, 1, -1\n",
    "    \n",
    "    x = np.linspace(0,1,M+1)    # gridpoints, including the boundary points\n",
    "    xi = x[1:]             # inner gridpoints\n",
    "    F = f(xi)                # evaluate f in the inner gridpoints\n",
    "    F[0] = F[0]+alpha/h**2   # include the contribution from the boundaries\n",
    "    F[-1] = h\n",
    "\n",
    "    # Solve the linear equation system\n",
    "    Ui = la.solve(Ah, F)        # the solution in the inner gridpoints\n",
    "\n",
    "    # Include the boundary points in the solution vector\n",
    "    U = np.zeros(M+1)\n",
    "    U[0] = alpha\n",
    "    U[1:] = Ui\n",
    "    return x, U"
   ]
  },
  {
   "cell_type": "markdown",
   "metadata": {},
   "source": [
    "Run the code"
   ]
  },
  {
   "cell_type": "code",
   "execution_count": 6,
   "metadata": {},
   "outputs": [
    {
     "data": {
      "image/png": "[encoded data removed]",
      "text/plain": [
       "<Figure size 432x288 with 1 Axes>"
      ]
     },
     "metadata": {
      "needs_background": "light"
     },
     "output_type": "display_data"
    }
   ],
   "source": [
    "alpha, beta, M = 0, 0, 100       # boundary values\n",
    "\n",
    "# Solve the BVP\n",
    "x, U = bvp_1(f, alpha, beta, M)\n",
    "\n",
    "#And plot the solution\n",
    "plt.plot(x, U,'.-')\n",
    "plt.xlabel('x')\n",
    "plt.ylabel('U')\n",
    "plt.title('Numerical solution of the model problem, scheme 1')\n",
    "plt.legend(['U'])\n",
    "plt.show()"
   ]
  },
  {
   "cell_type": "markdown",
   "metadata": {},
   "source": [
    "Test if the equation holds, the output should be one"
   ]
  },
  {
   "cell_type": "code",
   "execution_count": 7,
   "metadata": {},
   "outputs": [
    {
     "name": "stdout",
     "output_type": "stream",
     "text": [
      "0.9999999999999997\n"
     ]
    }
   ],
   "source": [
    "print(U[-1] + M*(U[-2]-U[-3]))"
   ]
  },
  {
   "cell_type": "code",
   "execution_count": null,
   "metadata": {},
   "outputs": [],
   "source": []
  }
 ],
 "metadata": {
  "kernelspec": {
   "display_name": "Python 3",
   "language": "python",
   "name": "python3"
  },
  "language_info": {
   "codemirror_mode": {
    "name": "ipython",
    "version": 3
   },
   "file_extension": ".py",
   "mimetype": "text/x-python",
   "name": "python",
   "nbconvert_exporter": "python",
   "pygments_lexer": "ipython3",
   "version": "3.7.1"
  }
 },
 "nbformat": 4,
 "nbformat_minor": 2
}
